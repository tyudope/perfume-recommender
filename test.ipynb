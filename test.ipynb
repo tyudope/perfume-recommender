{
 "cells": [
  {
   "cell_type": "code",
   "id": "initial_id",
   "metadata": {
    "collapsed": true,
    "ExecuteTime": {
     "end_time": "2025-10-17T17:09:41.008076Z",
     "start_time": "2025-10-17T17:09:41.003520Z"
    }
   },
   "source": "import pandas as pd",
   "outputs": [],
   "execution_count": 13
  },
  {
   "metadata": {
    "ExecuteTime": {
     "end_time": "2025-10-17T17:09:41.591654Z",
     "start_time": "2025-10-17T17:09:41.350231Z"
    }
   },
   "cell_type": "code",
   "source": "df = pd.read_csv(\"/backend/data/perfumes.csv\")",
   "id": "aae9aaddba88620f",
   "outputs": [],
   "execution_count": 14
  },
  {
   "metadata": {
    "ExecuteTime": {
     "end_time": "2025-10-17T17:09:41.701070Z",
     "start_time": "2025-10-17T17:09:41.695205Z"
    }
   },
   "cell_type": "code",
   "source": "df[\"gender\"].value_counts()",
   "id": "aada582c31f8f99f",
   "outputs": [
    {
     "data": {
      "text/plain": [
       "gender\n",
       "Unisex    29346\n",
       "Female    27688\n",
       "Male      12031\n",
       "Name: count, dtype: int64"
      ]
     },
     "execution_count": 15,
     "metadata": {},
     "output_type": "execute_result"
    }
   ],
   "execution_count": 15
  },
  {
   "metadata": {
    "ExecuteTime": {
     "end_time": "2025-10-17T17:09:42.247617Z",
     "start_time": "2025-10-17T17:09:42.245215Z"
    }
   },
   "cell_type": "code",
   "source": "len(df)",
   "id": "47f48591d091be54",
   "outputs": [
    {
     "data": {
      "text/plain": [
       "69065"
      ]
     },
     "execution_count": 16,
     "metadata": {},
     "output_type": "execute_result"
    }
   ],
   "execution_count": 16
  },
  {
   "metadata": {},
   "cell_type": "code",
   "outputs": [],
   "execution_count": null,
   "source": "",
   "id": "34d4d2f9b9c49b25"
  }
 ],
 "metadata": {
  "kernelspec": {
   "display_name": "Python 3",
   "language": "python",
   "name": "python3"
  },
  "language_info": {
   "codemirror_mode": {
    "name": "ipython",
    "version": 2
   },
   "file_extension": ".py",
   "mimetype": "text/x-python",
   "name": "python",
   "nbconvert_exporter": "python",
   "pygments_lexer": "ipython2",
   "version": "2.7.6"
  }
 },
 "nbformat": 4,
 "nbformat_minor": 5
}
